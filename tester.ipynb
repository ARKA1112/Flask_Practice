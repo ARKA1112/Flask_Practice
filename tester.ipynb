{
 "cells": [
  {
   "cell_type": "code",
   "execution_count": null,
   "metadata": {},
   "outputs": [],
   "source": [
    "!flask db --help"
   ]
  },
  {
   "cell_type": "code",
   "execution_count": 36,
   "metadata": {},
   "outputs": [],
   "source": [
    "db.drop_all()"
   ]
  },
  {
   "cell_type": "code",
   "execution_count": 37,
   "metadata": {},
   "outputs": [
    {
     "name": "stdout",
     "output_type": "stream",
     "text": [
      "INFO  [alembic.runtime.migration] Context impl SQLiteImpl.\n",
      "INFO  [alembic.runtime.migration] Will assume non-transactional DDL.\n",
      "INFO  [alembic.env] No changes in schema detected.\n"
     ]
    }
   ],
   "source": [
    "!flask db migrate"
   ]
  },
  {
   "cell_type": "code",
   "execution_count": 25,
   "metadata": {},
   "outputs": [
    {
     "name": "stdout",
     "output_type": "stream",
     "text": [
      "Error: Directory migrations already exists and is not empty\n"
     ]
    }
   ],
   "source": [
    "!flask db init"
   ]
  },
  {
   "cell_type": "code",
   "execution_count": null,
   "metadata": {},
   "outputs": [],
   "source": [
    "!flask db downgrade"
   ]
  },
  {
   "cell_type": "code",
   "execution_count": 38,
   "metadata": {},
   "outputs": [
    {
     "name": "stdout",
     "output_type": "stream",
     "text": [
      "INFO  [alembic.runtime.migration] Context impl SQLiteImpl.\n",
      "INFO  [alembic.runtime.migration] Will assume non-transactional DDL.\n",
      "INFO  [alembic.env] No changes in schema detected.\n"
     ]
    }
   ],
   "source": [
    "!flask db migrate -m \"users table\""
   ]
  },
  {
   "cell_type": "code",
   "execution_count": 39,
   "metadata": {},
   "outputs": [
    {
     "name": "stdout",
     "output_type": "stream",
     "text": [
      "INFO  [alembic.runtime.migration] Context impl SQLiteImpl.\n",
      "INFO  [alembic.runtime.migration] Will assume non-transactional DDL.\n"
     ]
    }
   ],
   "source": [
    "!flask db upgrade\n"
   ]
  },
  {
   "cell_type": "code",
   "execution_count": 40,
   "metadata": {},
   "outputs": [
    {
     "name": "stdout",
     "output_type": "stream",
     "text": [
      "INFO  [alembic.runtime.migration] Context impl SQLiteImpl.\n",
      "INFO  [alembic.runtime.migration] Will assume non-transactional DDL.\n",
      "INFO  [alembic.env] No changes in schema detected.\n"
     ]
    }
   ],
   "source": [
    "!flask db migrate -m \"posts table\""
   ]
  },
  {
   "cell_type": "code",
   "execution_count": 41,
   "metadata": {},
   "outputs": [
    {
     "name": "stdout",
     "output_type": "stream",
     "text": [
      "INFO  [alembic.runtime.migration] Context impl SQLiteImpl.\n",
      "INFO  [alembic.runtime.migration] Will assume non-transactional DDL.\n"
     ]
    }
   ],
   "source": [
    "!flask db upgrade"
   ]
  },
  {
   "cell_type": "code",
   "execution_count": 42,
   "metadata": {},
   "outputs": [],
   "source": [
    "from microblog import app\n"
   ]
  },
  {
   "cell_type": "code",
   "execution_count": 43,
   "metadata": {},
   "outputs": [
    {
     "data": {
      "text/plain": [
       "'you-will-never-guess'"
      ]
     },
     "execution_count": 43,
     "metadata": {},
     "output_type": "execute_result"
    }
   ],
   "source": [
    "app.config['SECRET_KEY']"
   ]
  },
  {
   "cell_type": "code",
   "execution_count": 44,
   "metadata": {},
   "outputs": [],
   "source": [
    "from app.models import User\n"
   ]
  },
  {
   "cell_type": "code",
   "execution_count": 45,
   "metadata": {},
   "outputs": [],
   "source": [
    "from importlib import reload"
   ]
  },
  {
   "cell_type": "code",
   "execution_count": 46,
   "metadata": {},
   "outputs": [],
   "source": [
    "import app\n",
    "reload(app)\n",
    "from app import app, db\n",
    "from app.models import User, Post"
   ]
  },
  {
   "cell_type": "code",
   "execution_count": 47,
   "metadata": {},
   "outputs": [],
   "source": [
    "app.app_context().push()"
   ]
  },
  {
   "cell_type": "code",
   "execution_count": 62,
   "metadata": {},
   "outputs": [
    {
     "ename": "KeyError",
     "evalue": "<weakref at 0x7f2b4e28be70; to 'Flask' at 0x7f2b4e2fe890>",
     "output_type": "error",
     "traceback": [
      "\u001b[0;31m---------------------------------------------------------------------------\u001b[0m",
      "\u001b[0;31mKeyError\u001b[0m                                  Traceback (most recent call last)",
      "Cell \u001b[0;32mIn [62], line 1\u001b[0m\n\u001b[0;32m----> 1\u001b[0m User\u001b[39m.\u001b[39;49mquery\u001b[39m.\u001b[39;49mall()\n",
      "File \u001b[0;32m~/miniconda3/envs/pylatest/lib/python3.11/site-packages/sqlalchemy/orm/query.py:2773\u001b[0m, in \u001b[0;36mQuery.all\u001b[0;34m(self)\u001b[0m\n\u001b[1;32m   2757\u001b[0m \u001b[39mdef\u001b[39;00m \u001b[39mall\u001b[39m(\u001b[39mself\u001b[39m):\n\u001b[1;32m   2758\u001b[0m \u001b[39m    \u001b[39m\u001b[39m\"\"\"Return the results represented by this :class:`_query.Query`\u001b[39;00m\n\u001b[1;32m   2759\u001b[0m \u001b[39m    as a list.\u001b[39;00m\n\u001b[1;32m   2760\u001b[0m \n\u001b[0;32m   (...)\u001b[0m\n\u001b[1;32m   2771\u001b[0m \u001b[39m            :ref:`faq_query_deduplicating`\u001b[39;00m\n\u001b[1;32m   2772\u001b[0m \u001b[39m    \"\"\"\u001b[39;00m\n\u001b[0;32m-> 2773\u001b[0m     \u001b[39mreturn\u001b[39;00m \u001b[39mself\u001b[39;49m\u001b[39m.\u001b[39;49m_iter()\u001b[39m.\u001b[39mall()\n",
      "File \u001b[0;32m~/miniconda3/envs/pylatest/lib/python3.11/site-packages/sqlalchemy/orm/query.py:2916\u001b[0m, in \u001b[0;36mQuery._iter\u001b[0;34m(self)\u001b[0m\n\u001b[1;32m   2913\u001b[0m params \u001b[39m=\u001b[39m \u001b[39mself\u001b[39m\u001b[39m.\u001b[39m_params\n\u001b[1;32m   2915\u001b[0m statement \u001b[39m=\u001b[39m \u001b[39mself\u001b[39m\u001b[39m.\u001b[39m_statement_20()\n\u001b[0;32m-> 2916\u001b[0m result \u001b[39m=\u001b[39m \u001b[39mself\u001b[39;49m\u001b[39m.\u001b[39;49msession\u001b[39m.\u001b[39;49mexecute(\n\u001b[1;32m   2917\u001b[0m     statement,\n\u001b[1;32m   2918\u001b[0m     params,\n\u001b[1;32m   2919\u001b[0m     execution_options\u001b[39m=\u001b[39;49m{\u001b[39m\"\u001b[39;49m\u001b[39m_sa_orm_load_options\u001b[39;49m\u001b[39m\"\u001b[39;49m: \u001b[39mself\u001b[39;49m\u001b[39m.\u001b[39;49mload_options},\n\u001b[1;32m   2920\u001b[0m )\n\u001b[1;32m   2922\u001b[0m \u001b[39m# legacy: automatically set scalars, unique\u001b[39;00m\n\u001b[1;32m   2923\u001b[0m \u001b[39mif\u001b[39;00m result\u001b[39m.\u001b[39m_attributes\u001b[39m.\u001b[39mget(\u001b[39m\"\u001b[39m\u001b[39mis_single_entity\u001b[39m\u001b[39m\"\u001b[39m, \u001b[39mFalse\u001b[39;00m):\n",
      "File \u001b[0;32m~/miniconda3/envs/pylatest/lib/python3.11/site-packages/sqlalchemy/orm/session.py:1702\u001b[0m, in \u001b[0;36mSession.execute\u001b[0;34m(self, statement, params, execution_options, bind_arguments, _parent_execute_state, _add_event, **kw)\u001b[0m\n\u001b[1;32m   1699\u001b[0m     statement \u001b[39m=\u001b[39m orm_exec_state\u001b[39m.\u001b[39mstatement\n\u001b[1;32m   1700\u001b[0m     execution_options \u001b[39m=\u001b[39m orm_exec_state\u001b[39m.\u001b[39mlocal_execution_options\n\u001b[0;32m-> 1702\u001b[0m bind \u001b[39m=\u001b[39m \u001b[39mself\u001b[39;49m\u001b[39m.\u001b[39;49mget_bind(\u001b[39m*\u001b[39;49m\u001b[39m*\u001b[39;49mbind_arguments)\n\u001b[1;32m   1704\u001b[0m \u001b[39mif\u001b[39;00m \u001b[39mself\u001b[39m\u001b[39m.\u001b[39mautocommit:\n\u001b[1;32m   1705\u001b[0m     \u001b[39m# legacy stuff, we can't use future_result w/ autocommit because\u001b[39;00m\n\u001b[1;32m   1706\u001b[0m     \u001b[39m# we rely upon close_with_result, also legacy.  it's all\u001b[39;00m\n\u001b[1;32m   1707\u001b[0m     \u001b[39m# interrelated\u001b[39;00m\n\u001b[1;32m   1708\u001b[0m     conn \u001b[39m=\u001b[39m \u001b[39mself\u001b[39m\u001b[39m.\u001b[39m_connection_for_bind(bind, close_with_result\u001b[39m=\u001b[39m\u001b[39mTrue\u001b[39;00m)\n",
      "File \u001b[0;32m~/miniconda3/envs/pylatest/lib/python3.11/site-packages/flask_sqlalchemy/session.py:61\u001b[0m, in \u001b[0;36mSession.get_bind\u001b[0;34m(self, mapper, clause, bind, **kwargs)\u001b[0m\n\u001b[1;32m     57\u001b[0m         \u001b[39mraise\u001b[39;00m\n\u001b[1;32m     59\u001b[0m     clause \u001b[39m=\u001b[39m mapper\u001b[39m.\u001b[39mpersist_selectable\n\u001b[0;32m---> 61\u001b[0m engines \u001b[39m=\u001b[39m \u001b[39mself\u001b[39;49m\u001b[39m.\u001b[39;49m_db\u001b[39m.\u001b[39;49mengines\n\u001b[1;32m     63\u001b[0m \u001b[39mif\u001b[39;00m \u001b[39misinstance\u001b[39m(clause, sa\u001b[39m.\u001b[39mTable) \u001b[39mand\u001b[39;00m \u001b[39m\"\u001b[39m\u001b[39mbind_key\u001b[39m\u001b[39m\"\u001b[39m \u001b[39min\u001b[39;00m clause\u001b[39m.\u001b[39mmetadata\u001b[39m.\u001b[39minfo:\n\u001b[1;32m     64\u001b[0m     key \u001b[39m=\u001b[39m clause\u001b[39m.\u001b[39mmetadata\u001b[39m.\u001b[39minfo[\u001b[39m\"\u001b[39m\u001b[39mbind_key\u001b[39m\u001b[39m\"\u001b[39m]\n",
      "File \u001b[0;32m~/miniconda3/envs/pylatest/lib/python3.11/site-packages/flask_sqlalchemy/extension.py:629\u001b[0m, in \u001b[0;36mSQLAlchemy.engines\u001b[0;34m(self)\u001b[0m\n\u001b[1;32m    617\u001b[0m \u001b[39m\u001b[39m\u001b[39m\"\"\"Map of bind keys to :class:`sqlalchemy.engine.Engine` instances for current\u001b[39;00m\n\u001b[1;32m    618\u001b[0m \u001b[39mapplication. The ``None`` key refers to the default engine, and is available as\u001b[39;00m\n\u001b[1;32m    619\u001b[0m \u001b[39m:attr:`engine`.\u001b[39;00m\n\u001b[0;32m   (...)\u001b[0m\n\u001b[1;32m    626\u001b[0m \u001b[39m.. versionadded:: 3.0\u001b[39;00m\n\u001b[1;32m    627\u001b[0m \u001b[39m\"\"\"\u001b[39;00m\n\u001b[1;32m    628\u001b[0m app \u001b[39m=\u001b[39m current_app\u001b[39m.\u001b[39m_get_current_object()  \u001b[39m# type: ignore[attr-defined]\u001b[39;00m\n\u001b[0;32m--> 629\u001b[0m \u001b[39mreturn\u001b[39;00m \u001b[39mself\u001b[39;49m\u001b[39m.\u001b[39;49m_app_engines[app]\n",
      "File \u001b[0;32m~/miniconda3/envs/pylatest/lib/python3.11/weakref.py:415\u001b[0m, in \u001b[0;36mWeakKeyDictionary.__getitem__\u001b[0;34m(self, key)\u001b[0m\n\u001b[1;32m    414\u001b[0m \u001b[39mdef\u001b[39;00m \u001b[39m__getitem__\u001b[39m(\u001b[39mself\u001b[39m, key):\n\u001b[0;32m--> 415\u001b[0m     \u001b[39mreturn\u001b[39;00m \u001b[39mself\u001b[39;49m\u001b[39m.\u001b[39;49mdata[ref(key)]\n",
      "\u001b[0;31mKeyError\u001b[0m: <weakref at 0x7f2b4e28be70; to 'Flask' at 0x7f2b4e2fe890>"
     ]
    }
   ],
   "source": [
    "User.query.all()"
   ]
  },
  {
   "cell_type": "code",
   "execution_count": null,
   "metadata": {},
   "outputs": [],
   "source": [
    "User.query.get(1)"
   ]
  },
  {
   "cell_type": "code",
   "execution_count": null,
   "metadata": {},
   "outputs": [],
   "source": [
    "u = User.query.get(1)"
   ]
  },
  {
   "cell_type": "code",
   "execution_count": 14,
   "metadata": {},
   "outputs": [],
   "source": [
    "p = Post(body='my first post', author=u)"
   ]
  },
  {
   "cell_type": "code",
   "execution_count": 15,
   "metadata": {},
   "outputs": [],
   "source": [
    "db.session.add(p)"
   ]
  },
  {
   "cell_type": "code",
   "execution_count": 18,
   "metadata": {},
   "outputs": [],
   "source": [
    "db.session.commit()"
   ]
  },
  {
   "cell_type": "code",
   "execution_count": null,
   "metadata": {},
   "outputs": [],
   "source": [
    "u = User.query.get(0)"
   ]
  },
  {
   "cell_type": "code",
   "execution_count": 22,
   "metadata": {},
   "outputs": [],
   "source": [
    "posts = u.posts.all()"
   ]
  },
  {
   "cell_type": "code",
   "execution_count": 23,
   "metadata": {},
   "outputs": [
    {
     "data": {
      "text/plain": [
       "[<Post my first post>]"
      ]
     },
     "execution_count": 23,
     "metadata": {},
     "output_type": "execute_result"
    }
   ],
   "source": [
    "posts"
   ]
  },
  {
   "cell_type": "code",
   "execution_count": 24,
   "metadata": {},
   "outputs": [
    {
     "ename": "KeyError",
     "evalue": "<weakref at 0x7f2b53e606d0; to 'Flask' at 0x7f2b7a2e5250>",
     "output_type": "error",
     "traceback": [
      "\u001b[0;31m---------------------------------------------------------------------------\u001b[0m",
      "\u001b[0;31mKeyError\u001b[0m                                  Traceback (most recent call last)",
      "Cell \u001b[0;32mIn [24], line 1\u001b[0m\n\u001b[0;32m----> 1\u001b[0m u \u001b[39m=\u001b[39m User\u001b[39m.\u001b[39;49mquery\u001b[39m.\u001b[39;49mget(\u001b[39m2\u001b[39;49m)\n",
      "File \u001b[0;32m<string>:2\u001b[0m, in \u001b[0;36mget\u001b[0;34m(self, ident)\u001b[0m\n",
      "File \u001b[0;32m~/miniconda3/envs/pylatest/lib/python3.11/site-packages/sqlalchemy/util/deprecations.py:468\u001b[0m, in \u001b[0;36m_decorate_with_warning.<locals>.warned\u001b[0;34m(fn, *args, **kwargs)\u001b[0m\n\u001b[1;32m    466\u001b[0m \u001b[39mif\u001b[39;00m \u001b[39mnot\u001b[39;00m skip_warning:\n\u001b[1;32m    467\u001b[0m     _warn_with_version(message, version, wtype, stacklevel\u001b[39m=\u001b[39m\u001b[39m3\u001b[39m)\n\u001b[0;32m--> 468\u001b[0m \u001b[39mreturn\u001b[39;00m fn(\u001b[39m*\u001b[39;49margs, \u001b[39m*\u001b[39;49m\u001b[39m*\u001b[39;49mkwargs)\n",
      "File \u001b[0;32m~/miniconda3/envs/pylatest/lib/python3.11/site-packages/sqlalchemy/orm/query.py:947\u001b[0m, in \u001b[0;36mQuery.get\u001b[0;34m(self, ident)\u001b[0m\n\u001b[1;32m    943\u001b[0m \u001b[39mself\u001b[39m\u001b[39m.\u001b[39m_no_criterion_assertion(\u001b[39m\"\u001b[39m\u001b[39mget\u001b[39m\u001b[39m\"\u001b[39m, order_by\u001b[39m=\u001b[39m\u001b[39mFalse\u001b[39;00m, distinct\u001b[39m=\u001b[39m\u001b[39mFalse\u001b[39;00m)\n\u001b[1;32m    945\u001b[0m \u001b[39m# we still implement _get_impl() so that baked query can override\u001b[39;00m\n\u001b[1;32m    946\u001b[0m \u001b[39m# it\u001b[39;00m\n\u001b[0;32m--> 947\u001b[0m \u001b[39mreturn\u001b[39;00m \u001b[39mself\u001b[39;49m\u001b[39m.\u001b[39;49m_get_impl(ident, loading\u001b[39m.\u001b[39;49mload_on_pk_identity)\n",
      "File \u001b[0;32m~/miniconda3/envs/pylatest/lib/python3.11/site-packages/sqlalchemy/orm/query.py:951\u001b[0m, in \u001b[0;36mQuery._get_impl\u001b[0;34m(self, primary_key_identity, db_load_fn, identity_token)\u001b[0m\n\u001b[1;32m    949\u001b[0m \u001b[39mdef\u001b[39;00m \u001b[39m_get_impl\u001b[39m(\u001b[39mself\u001b[39m, primary_key_identity, db_load_fn, identity_token\u001b[39m=\u001b[39m\u001b[39mNone\u001b[39;00m):\n\u001b[1;32m    950\u001b[0m     mapper \u001b[39m=\u001b[39m \u001b[39mself\u001b[39m\u001b[39m.\u001b[39m_only_full_mapper_zero(\u001b[39m\"\u001b[39m\u001b[39mget\u001b[39m\u001b[39m\"\u001b[39m)\n\u001b[0;32m--> 951\u001b[0m     \u001b[39mreturn\u001b[39;00m \u001b[39mself\u001b[39;49m\u001b[39m.\u001b[39;49msession\u001b[39m.\u001b[39;49m_get_impl(\n\u001b[1;32m    952\u001b[0m         mapper,\n\u001b[1;32m    953\u001b[0m         primary_key_identity,\n\u001b[1;32m    954\u001b[0m         db_load_fn,\n\u001b[1;32m    955\u001b[0m         populate_existing\u001b[39m=\u001b[39;49m\u001b[39mself\u001b[39;49m\u001b[39m.\u001b[39;49mload_options\u001b[39m.\u001b[39;49m_populate_existing,\n\u001b[1;32m    956\u001b[0m         with_for_update\u001b[39m=\u001b[39;49m\u001b[39mself\u001b[39;49m\u001b[39m.\u001b[39;49m_for_update_arg,\n\u001b[1;32m    957\u001b[0m         options\u001b[39m=\u001b[39;49m\u001b[39mself\u001b[39;49m\u001b[39m.\u001b[39;49m_with_options,\n\u001b[1;32m    958\u001b[0m         identity_token\u001b[39m=\u001b[39;49midentity_token,\n\u001b[1;32m    959\u001b[0m         execution_options\u001b[39m=\u001b[39;49m\u001b[39mself\u001b[39;49m\u001b[39m.\u001b[39;49m_execution_options,\n\u001b[1;32m    960\u001b[0m     )\n",
      "File \u001b[0;32m~/miniconda3/envs/pylatest/lib/python3.11/site-packages/sqlalchemy/orm/session.py:2970\u001b[0m, in \u001b[0;36mSession._get_impl\u001b[0;34m(self, entity, primary_key_identity, db_load_fn, options, populate_existing, with_for_update, identity_token, execution_options)\u001b[0m\n\u001b[1;32m   2968\u001b[0m \u001b[39mif\u001b[39;00m execution_options:\n\u001b[1;32m   2969\u001b[0m     statement \u001b[39m=\u001b[39m statement\u001b[39m.\u001b[39mexecution_options(\u001b[39m*\u001b[39m\u001b[39m*\u001b[39mexecution_options)\n\u001b[0;32m-> 2970\u001b[0m \u001b[39mreturn\u001b[39;00m db_load_fn(\n\u001b[1;32m   2971\u001b[0m     \u001b[39mself\u001b[39;49m,\n\u001b[1;32m   2972\u001b[0m     statement,\n\u001b[1;32m   2973\u001b[0m     primary_key_identity,\n\u001b[1;32m   2974\u001b[0m     load_options\u001b[39m=\u001b[39;49mload_options,\n\u001b[1;32m   2975\u001b[0m )\n",
      "File \u001b[0;32m~/miniconda3/envs/pylatest/lib/python3.11/site-packages/sqlalchemy/orm/loading.py:530\u001b[0m, in \u001b[0;36mload_on_pk_identity\u001b[0;34m(session, statement, primary_key_identity, load_options, refresh_state, with_for_update, only_load_props, identity_token, no_autoflush, bind_arguments, execution_options)\u001b[0m\n\u001b[1;32m    524\u001b[0m     load_options \u001b[39m+\u001b[39m\u001b[39m=\u001b[39m {\u001b[39m\"\u001b[39m\u001b[39m_autoflush\u001b[39m\u001b[39m\"\u001b[39m: \u001b[39mFalse\u001b[39;00m}\n\u001b[1;32m    526\u001b[0m execution_options \u001b[39m=\u001b[39m util\u001b[39m.\u001b[39mEMPTY_DICT\u001b[39m.\u001b[39mmerge_with(\n\u001b[1;32m    527\u001b[0m     execution_options, {\u001b[39m\"\u001b[39m\u001b[39m_sa_orm_load_options\u001b[39m\u001b[39m\"\u001b[39m: load_options}\n\u001b[1;32m    528\u001b[0m )\n\u001b[1;32m    529\u001b[0m result \u001b[39m=\u001b[39m (\n\u001b[0;32m--> 530\u001b[0m     session\u001b[39m.\u001b[39;49mexecute(\n\u001b[1;32m    531\u001b[0m         q,\n\u001b[1;32m    532\u001b[0m         params\u001b[39m=\u001b[39;49mparams,\n\u001b[1;32m    533\u001b[0m         execution_options\u001b[39m=\u001b[39;49mexecution_options,\n\u001b[1;32m    534\u001b[0m         bind_arguments\u001b[39m=\u001b[39;49mbind_arguments,\n\u001b[1;32m    535\u001b[0m     )\n\u001b[1;32m    536\u001b[0m     \u001b[39m.\u001b[39munique()\n\u001b[1;32m    537\u001b[0m     \u001b[39m.\u001b[39mscalars()\n\u001b[1;32m    538\u001b[0m )\n\u001b[1;32m    540\u001b[0m \u001b[39mtry\u001b[39;00m:\n\u001b[1;32m    541\u001b[0m     \u001b[39mreturn\u001b[39;00m result\u001b[39m.\u001b[39mone()\n",
      "File \u001b[0;32m~/miniconda3/envs/pylatest/lib/python3.11/site-packages/sqlalchemy/orm/session.py:1702\u001b[0m, in \u001b[0;36mSession.execute\u001b[0;34m(self, statement, params, execution_options, bind_arguments, _parent_execute_state, _add_event, **kw)\u001b[0m\n\u001b[1;32m   1699\u001b[0m     statement \u001b[39m=\u001b[39m orm_exec_state\u001b[39m.\u001b[39mstatement\n\u001b[1;32m   1700\u001b[0m     execution_options \u001b[39m=\u001b[39m orm_exec_state\u001b[39m.\u001b[39mlocal_execution_options\n\u001b[0;32m-> 1702\u001b[0m bind \u001b[39m=\u001b[39m \u001b[39mself\u001b[39;49m\u001b[39m.\u001b[39;49mget_bind(\u001b[39m*\u001b[39;49m\u001b[39m*\u001b[39;49mbind_arguments)\n\u001b[1;32m   1704\u001b[0m \u001b[39mif\u001b[39;00m \u001b[39mself\u001b[39m\u001b[39m.\u001b[39mautocommit:\n\u001b[1;32m   1705\u001b[0m     \u001b[39m# legacy stuff, we can't use future_result w/ autocommit because\u001b[39;00m\n\u001b[1;32m   1706\u001b[0m     \u001b[39m# we rely upon close_with_result, also legacy.  it's all\u001b[39;00m\n\u001b[1;32m   1707\u001b[0m     \u001b[39m# interrelated\u001b[39;00m\n\u001b[1;32m   1708\u001b[0m     conn \u001b[39m=\u001b[39m \u001b[39mself\u001b[39m\u001b[39m.\u001b[39m_connection_for_bind(bind, close_with_result\u001b[39m=\u001b[39m\u001b[39mTrue\u001b[39;00m)\n",
      "File \u001b[0;32m~/miniconda3/envs/pylatest/lib/python3.11/site-packages/flask_sqlalchemy/session.py:61\u001b[0m, in \u001b[0;36mSession.get_bind\u001b[0;34m(self, mapper, clause, bind, **kwargs)\u001b[0m\n\u001b[1;32m     57\u001b[0m         \u001b[39mraise\u001b[39;00m\n\u001b[1;32m     59\u001b[0m     clause \u001b[39m=\u001b[39m mapper\u001b[39m.\u001b[39mpersist_selectable\n\u001b[0;32m---> 61\u001b[0m engines \u001b[39m=\u001b[39m \u001b[39mself\u001b[39;49m\u001b[39m.\u001b[39;49m_db\u001b[39m.\u001b[39;49mengines\n\u001b[1;32m     63\u001b[0m \u001b[39mif\u001b[39;00m \u001b[39misinstance\u001b[39m(clause, sa\u001b[39m.\u001b[39mTable) \u001b[39mand\u001b[39;00m \u001b[39m\"\u001b[39m\u001b[39mbind_key\u001b[39m\u001b[39m\"\u001b[39m \u001b[39min\u001b[39;00m clause\u001b[39m.\u001b[39mmetadata\u001b[39m.\u001b[39minfo:\n\u001b[1;32m     64\u001b[0m     key \u001b[39m=\u001b[39m clause\u001b[39m.\u001b[39mmetadata\u001b[39m.\u001b[39minfo[\u001b[39m\"\u001b[39m\u001b[39mbind_key\u001b[39m\u001b[39m\"\u001b[39m]\n",
      "File \u001b[0;32m~/miniconda3/envs/pylatest/lib/python3.11/site-packages/flask_sqlalchemy/extension.py:629\u001b[0m, in \u001b[0;36mSQLAlchemy.engines\u001b[0;34m(self)\u001b[0m\n\u001b[1;32m    617\u001b[0m \u001b[39m\u001b[39m\u001b[39m\"\"\"Map of bind keys to :class:`sqlalchemy.engine.Engine` instances for current\u001b[39;00m\n\u001b[1;32m    618\u001b[0m \u001b[39mapplication. The ``None`` key refers to the default engine, and is available as\u001b[39;00m\n\u001b[1;32m    619\u001b[0m \u001b[39m:attr:`engine`.\u001b[39;00m\n\u001b[0;32m   (...)\u001b[0m\n\u001b[1;32m    626\u001b[0m \u001b[39m.. versionadded:: 3.0\u001b[39;00m\n\u001b[1;32m    627\u001b[0m \u001b[39m\"\"\"\u001b[39;00m\n\u001b[1;32m    628\u001b[0m app \u001b[39m=\u001b[39m current_app\u001b[39m.\u001b[39m_get_current_object()  \u001b[39m# type: ignore[attr-defined]\u001b[39;00m\n\u001b[0;32m--> 629\u001b[0m \u001b[39mreturn\u001b[39;00m \u001b[39mself\u001b[39;49m\u001b[39m.\u001b[39;49m_app_engines[app]\n",
      "File \u001b[0;32m~/miniconda3/envs/pylatest/lib/python3.11/weakref.py:415\u001b[0m, in \u001b[0;36mWeakKeyDictionary.__getitem__\u001b[0;34m(self, key)\u001b[0m\n\u001b[1;32m    414\u001b[0m \u001b[39mdef\u001b[39;00m \u001b[39m__getitem__\u001b[39m(\u001b[39mself\u001b[39m, key):\n\u001b[0;32m--> 415\u001b[0m     \u001b[39mreturn\u001b[39;00m \u001b[39mself\u001b[39;49m\u001b[39m.\u001b[39;49mdata[ref(key)]\n",
      "\u001b[0;31mKeyError\u001b[0m: <weakref at 0x7f2b53e606d0; to 'Flask' at 0x7f2b7a2e5250>"
     ]
    }
   ],
   "source": [
    "u = User.query.get(2)"
   ]
  },
  {
   "cell_type": "code",
   "execution_count": 49,
   "metadata": {},
   "outputs": [
    {
     "data": {
      "text/plain": [
       "'pbkdf2:sha256:260000$CpiilLHKEukwMhSj$b3515f26159ef7e005facfc0b900838d464df27b32498fd4ff04c164bfd73c47'"
      ]
     },
     "execution_count": 49,
     "metadata": {},
     "output_type": "execute_result"
    }
   ],
   "source": [
    "from werkzeug.security import generate_password_hash\n",
    "\n",
    "hash = generate_password_hash('werkzeug')\n",
    "hash"
   ]
  },
  {
   "cell_type": "code",
   "execution_count": 50,
   "metadata": {},
   "outputs": [
    {
     "data": {
      "text/plain": [
       "'pbkdf2:sha256:260000$CpiilLHKEukwMhSj$b3515f26159ef7e005facfc0b900838d464df27b32498fd4ff04c164bfd73c47'"
      ]
     },
     "execution_count": 50,
     "metadata": {},
     "output_type": "execute_result"
    }
   ],
   "source": [
    "hash"
   ]
  },
  {
   "cell_type": "code",
   "execution_count": 53,
   "metadata": {},
   "outputs": [
    {
     "data": {
      "text/plain": [
       "True"
      ]
     },
     "execution_count": 53,
     "metadata": {},
     "output_type": "execute_result"
    }
   ],
   "source": [
    "from werkzeug.security import check_password_hash\n",
    "\n",
    "check_password_hash(hash,'werkzeug')"
   ]
  },
  {
   "cell_type": "code",
   "execution_count": 61,
   "metadata": {},
   "outputs": [
    {
     "ename": "AttributeError",
     "evalue": "'User' object has no attribute 'check_password'",
     "output_type": "error",
     "traceback": [
      "\u001b[0;31m---------------------------------------------------------------------------\u001b[0m",
      "\u001b[0;31mAttributeError\u001b[0m                            Traceback (most recent call last)",
      "Cell \u001b[0;32mIn [61], line 3\u001b[0m\n\u001b[1;32m      1\u001b[0m u \u001b[39m=\u001b[39m User(username\u001b[39m=\u001b[39m\u001b[39m'\u001b[39m\u001b[39mSusan\u001b[39m\u001b[39m'\u001b[39m, email\u001b[39m=\u001b[39m\u001b[39m'\u001b[39m\u001b[39msusan@example.com\u001b[39m\u001b[39m'\u001b[39m)\n\u001b[1;32m      2\u001b[0m \u001b[39m#u.set_password('mypassword')\u001b[39;00m\n\u001b[0;32m----> 3\u001b[0m u\u001b[39m.\u001b[39;49mcheck_password(\u001b[39m'\u001b[39m\u001b[39manotherpassword\u001b[39m\u001b[39m'\u001b[39m)\n",
      "\u001b[0;31mAttributeError\u001b[0m: 'User' object has no attribute 'check_password'"
     ]
    }
   ],
   "source": [
    "u = User(username='Susan', email='susan@example.com')\n",
    "#u.set_password('mypassword')\n",
    "u.check_password('anotherpassword')"
   ]
  },
  {
   "cell_type": "code",
   "execution_count": null,
   "metadata": {},
   "outputs": [],
   "source": [
    "u."
   ]
  },
  {
   "cell_type": "code",
   "execution_count": 55,
   "metadata": {},
   "outputs": [],
   "source": [
    "import sys\n",
    "sys.path.append('/home/susearc/Documents/github/Flask')"
   ]
  },
  {
   "cell_type": "code",
   "execution_count": 56,
   "metadata": {},
   "outputs": [
    {
     "data": {
      "text/plain": [
       "['/home/susearc/Documents/github/Flask',\n",
       " '/home/susearc/miniconda3/envs/pylatest/lib/python311.zip',\n",
       " '/home/susearc/miniconda3/envs/pylatest/lib/python3.11',\n",
       " '/home/susearc/miniconda3/envs/pylatest/lib/python3.11/lib-dynload',\n",
       " '',\n",
       " '/home/susearc/miniconda3/envs/pylatest/lib/python3.11/site-packages',\n",
       " '/home/susearc/Documents/github/Flask']"
      ]
     },
     "execution_count": 56,
     "metadata": {},
     "output_type": "execute_result"
    }
   ],
   "source": [
    "sys.path"
   ]
  },
  {
   "cell_type": "code",
   "execution_count": 58,
   "metadata": {},
   "outputs": [],
   "source": [
    "import config"
   ]
  },
  {
   "cell_type": "code",
   "execution_count": null,
   "metadata": {},
   "outputs": [],
   "source": []
  }
 ],
 "metadata": {
  "kernelspec": {
   "display_name": "pylatest",
   "language": "python",
   "name": "python3"
  },
  "language_info": {
   "codemirror_mode": {
    "name": "ipython",
    "version": 3
   },
   "file_extension": ".py",
   "mimetype": "text/x-python",
   "name": "python",
   "nbconvert_exporter": "python",
   "pygments_lexer": "ipython3",
   "version": "3.11.0"
  },
  "orig_nbformat": 4,
  "vscode": {
   "interpreter": {
    "hash": "5ee8ddc627afdb3e464b957ff205c0c7ba35df3a73d146152ad7c4b158eb19da"
   }
  }
 },
 "nbformat": 4,
 "nbformat_minor": 2
}
